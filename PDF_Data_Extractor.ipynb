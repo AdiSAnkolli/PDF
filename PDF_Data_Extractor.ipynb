{
 "cells": [
  {
   "cell_type": "code",
   "execution_count": 1,
   "metadata": {},
   "outputs": [
    {
     "name": "stdout",
     "output_type": "stream",
     "text": [
      "Collecting PyPDF2Note: you may need to restart the kernel to use updated packages.\n"
     ]
    },
    {
     "name": "stderr",
     "output_type": "stream",
     "text": [
      "WARNING: Retrying (Retry(total=4, connect=None, read=None, redirect=None, status=None)) after connection broken by 'NewConnectionError('<pip._vendor.urllib3.connection.VerifiedHTTPSConnection object at 0x000000000475E5C0>: Failed to establish a new connection: [Errno 11004] getaddrinfo failed',)': /simple/pypdf2/\n"
     ]
    },
    {
     "name": "stdout",
     "output_type": "stream",
     "text": [
      "\n",
      "  Downloading PyPDF2-1.26.0.tar.gz (77 kB)\n",
      "Collecting as\n",
      "  Downloading as-0.1-py3-none-any.whl (2.2 kB)\n",
      "Collecting p2\n",
      "  Downloading p2-1.0.1-py3-none-any.whl (3.4 kB)\n",
      "Building wheels for collected packages: PyPDF2\n",
      "  Building wheel for PyPDF2 (setup.py): started\n",
      "  Building wheel for PyPDF2 (setup.py): finished with status 'done'\n",
      "  Created wheel for PyPDF2: filename=PyPDF2-1.26.0-py3-none-any.whl size=61087 sha256=84ea8f2cb9752fdf686d607982ae212d9cd822ee308444b1f9bd4b199db11c52\n",
      "  Stored in directory: c:\\users\\aditya\\appdata\\local\\pip\\cache\\wheels\\97\\28\\4b\\142b7d8c98eeeb73534b9c5b6558ddd3bab3c2c8192aa7ab30\n",
      "Successfully built PyPDF2\n",
      "Installing collected packages: PyPDF2, as, p2\n",
      "Successfully installed PyPDF2-1.26.0 as-0.1 p2-1.0.1\n"
     ]
    }
   ],
   "source": [
    "pip install PyPDF2 as p2"
   ]
  },
  {
   "cell_type": "code",
   "execution_count": 2,
   "metadata": {},
   "outputs": [],
   "source": [
    "PDF_file = open(\"Internship Letter_Aditya_Sankolli_Signed.pdf\", \"rb\")  # Read Mode"
   ]
  },
  {
   "cell_type": "code",
   "execution_count": 4,
   "metadata": {},
   "outputs": [],
   "source": [
    "import PyPDF2 as p2\n",
    "pdfread = p2.PdfFileReader(PDF_file)\n"
   ]
  },
  {
   "cell_type": "code",
   "execution_count": 10,
   "metadata": {},
   "outputs": [
    {
     "name": "stdout",
     "output_type": "stream",
     "text": [
      "1\n"
     ]
    }
   ],
   "source": [
    "# Extracting a Single Page of the PDF\n",
    "\n",
    "x = pdfread.getPage(0)\n",
    "#print(x.extractText())    # Use to get text from the pdf\n",
    "#print(pdfread.getIsEncrypted())    # Returns a boolean value denoting whether the pdf is encrypted or not\n",
    "#print(pdfread.getDocumentInfo())   # Returns details about the document, like who created it, when it was created, etc.\n",
    "#print(pdfread.getNumPages())       # Returns total number of pages in the guven pdf\n",
    "\n",
    "\n",
    "# Similarly, you can get outlines, page numbers, meta data, etc through such simple commands"
   ]
  },
  {
   "cell_type": "code",
   "execution_count": 11,
   "metadata": {},
   "outputs": [
    {
     "name": "stdout",
     "output_type": "stream",
     "text": [
      " \n",
      "bizAmica Software Pvt. Ltd.\n",
      " \n",
      "Registered Address:\n",
      " \n",
      "# 3, Tulips, Lokmanaya Col, S.No. 89/90, PL.No. 65, Paud Rd\n",
      ", Kothrud, Pune \n",
      "-\n",
      " \n",
      "38  \n",
      " \n",
      " \n",
      "Date: \n",
      "21\n",
      " \n",
      "May\n",
      " \n",
      "2020\n",
      " \n",
      "To,\n",
      " \n",
      "Aditya Sankoll\n",
      "i\n",
      ",\n",
      " \n",
      "adityasankolli@gmail.co\n",
      "m\n",
      " \n",
      "MITWPU\n",
      ", \n",
      " \n",
      "Pune 411038\n",
      " \n",
      " \n",
      "Subject:  Internship \n",
      "Offer \n",
      "Letter\n",
      " \n",
      " \n",
      "W\n",
      "ith reference \n",
      "to \n",
      "your application for \n",
      "Intern\n",
      "ship\n",
      " \n",
      "with bizAmica Software Pvt\n",
      ".\n",
      " \n",
      "Ltd.\n",
      " \n",
      "and \n",
      "subsequent evaluation, w\n",
      "e are pleased to inform \n",
      "you \n",
      "that you have been selected\n",
      " \n",
      "to join \n",
      "our organisation as an \n",
      "Intern. \n",
      " \n",
      " \n",
      "Your joining date will be \n",
      "1\n",
      "st\n",
      " \n",
      "June\n",
      ",\n",
      " \n",
      "2020\n",
      ".\n",
      " \n",
      " \n",
      "Y\n",
      "our \n",
      "internship \n",
      "duration\n",
      " \n",
      "is\n",
      " \n",
      "min. \n",
      "3\n",
      " \n",
      "months\n",
      " \n",
      "and \n",
      "you \n",
      "will be working \n",
      "full time \n",
      "on \n",
      "suitable \n",
      "project\n",
      "s related to AI\n",
      "-\n",
      "ML\n",
      ".\n",
      " \n",
      " \n",
      "Your \n",
      "work location\n",
      " \n",
      "will be\n",
      " \n",
      "remote. \n",
      " \n",
      "Company's o\n",
      "ffice\n",
      " \n",
      "is located at\n",
      ":\n",
      " \n",
      "bizAmica \n",
      "Software \n",
      "Pvt Ltd,\n",
      " \n",
      " \n",
      "# 306, 2nd Floor, Venture IT Park,\n",
      " \n",
      "\n",
      " \n",
      "Paud Road, Kothrud, \n",
      "Pune, Maharashtra 411038\n",
      " \n",
      " \n",
      "Aditya\n",
      "\n",
      " \n",
      "For any queries or clarifications, please feel free to \n",
      "contact\n",
      " \n",
      "us\n",
      ".\n",
      " \n",
      " \n",
      " \n",
      "Best Regards\n",
      ",\n",
      " \n",
      " \n",
      " \n",
      " \n",
      " \n",
      " \n",
      " \n",
      " \n",
      " \n",
      "Rahul Bhanose\n",
      " \n",
      "CEO \n",
      " \n",
      "bizAmica\n",
      " \n",
      "Software \n",
      "Pvt. Ltd.\n",
      " \n",
      " \n",
      " \n",
      " \n",
      "\n"
     ]
    }
   ],
   "source": [
    "# Extracting the entire pdf\n",
    "# While loop\n",
    "\n",
    "i = 0\n",
    "while i < pdfread.getNumPages():\n",
    "    pageinfo = pdfread.getPage(i)\n",
    "    print(pageinfo.extractText())\n",
    "    i += 1\n"
   ]
  },
  {
   "cell_type": "code",
   "execution_count": null,
   "metadata": {},
   "outputs": [],
   "source": []
  }
 ],
 "metadata": {
  "kernelspec": {
   "display_name": "Python 3",
   "language": "python",
   "name": "python3"
  },
  "language_info": {
   "codemirror_mode": {
    "name": "ipython",
    "version": 3
   },
   "file_extension": ".py",
   "mimetype": "text/x-python",
   "name": "python",
   "nbconvert_exporter": "python",
   "pygments_lexer": "ipython3",
   "version": "3.6.10"
  }
 },
 "nbformat": 4,
 "nbformat_minor": 4
}
